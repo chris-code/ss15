{
 "cells": [
  {
   "cell_type": "markdown",
   "metadata": {},
   "source": [
    "In this tutorial you will learn about GIT, what it is good for and how it is used.\n",
    "\n",
    "First of all GIT is a version control system that is open source and free of charge.\n",
    "A version control system has two main functions, first it is a backup tool for you code/project and second it allows different persons to work on a project at the same time without interferring the others changes.\n",
    "\n",
    "\n",
    "\n",
    "GIT is a distributed version control, meaning that every copy is a full working repository. This is in contrast to other version classical control systems like SVN for example, where the full repository is hosted somewhere and every user is having only a working copy, which does not have full history for example.\n"
   ]
  }
 ],
 "metadata": {
  "kernelspec": {
   "display_name": "Python 2",
   "language": "python",
   "name": "python2"
  },
  "language_info": {
   "codemirror_mode": {
    "name": "ipython",
    "version": 2
   },
   "file_extension": ".py",
   "mimetype": "text/x-python",
   "name": "python",
   "nbconvert_exporter": "python",
   "pygments_lexer": "ipython2",
   "version": "2.7.6"
  }
 },
 "nbformat": 4,
 "nbformat_minor": 0
}
