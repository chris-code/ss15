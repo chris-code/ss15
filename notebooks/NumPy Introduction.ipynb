{
 "cells": [
  {
   "cell_type": "markdown",
   "metadata": {},
   "source": [
    "# Numpy \n",
    "\n",
    "Fundamental building block of scientific Python.\n",
    "* Main attraction: Powerful and highly flexible array object.\n",
    "* Plus: Set of most common mathematical utilities (constants, random numbers, linear algebra functions).\n",
    "\n",
    "(*see:* [Numpy introduction](http://www.labri.fr/perso/nrougier/teaching/numpy/numpy.html#introduction))\n"
   ]
  },
  {
   "cell_type": "markdown",
   "metadata": {},
   "source": [
    "## Import"
   ]
  },
  {
   "cell_type": "code",
   "execution_count": null,
   "metadata": {
    "collapsed": false
   },
   "outputs": [],
   "source": [
    "# imports\n",
    "import numpy as np                 # It will be used a lot, so the shorthand is helpful.\n",
    "import matplotlib.pyplot as plt    # Same here.\n",
    "%matplotlib inline"
   ]
  },
  {
   "cell_type": "markdown",
   "metadata": {},
   "source": [
    "##Numpy array basics\n",
    "Every numpy array has some basic values that denote its format. Note that numpy array **cannot** change their size once they are created, but they **can** change their shape, i.e., an array will always hold the same number of elements, but their organization into rows and columns may change as desired.\n",
    "* **ndarray.ndim:** The number of axes/dimensions of an array. The default matrix used for math problems is of dimensionality 2.\n",
    "* **ndarray.shape:** A tuple of integers indicating the size of an array in each dimension. For a matrix with n rows and m columns, shape will be (n,m). The length of the shape tuple is therefore the rank, or number of dimensions, ndim. \n",
    "* **ndarray.size:** The total number of elements of the array. This is equal to the product of the elements of shape. \n",
    "* **ndarray.dtype:** The data type of the array elements. Defaults to 64 bit floating point values and can be set when the array is created.\n",
    "\n",
    "(*see:* [Numpy basics](http://wiki.scipy.org/Tentative_NumPy_Tutorial#head-6a1bc005bd80e1b19f812e1e64e0d25d50f99fe2))"
   ]
  },
  {
   "cell_type": "code",
   "execution_count": null,
   "metadata": {
    "collapsed": false
   },
   "outputs": [],
   "source": [
    "m = np.array([[1,2,3],[4,5,6],[7,8,9]], dtype=np.int32)\n",
    "print m\n",
    "print 'ndim: ', m.ndim, '\\nshape:', m.shape, '\\nsize: ', m.size, '\\ndtype:', m.dtype"
   ]
  },
  {
   "cell_type": "code",
   "execution_count": null,
   "metadata": {
    "collapsed": true
   },
   "outputs": [],
   "source": [
    "# helper function\n",
    "def showMatrix(X):\n",
    "    \"\"\"Plot a given matrix or vector\"\"\"\n",
    "    Y = np.array(np.array(Z, ndmin=2))  # 1D -> 2D\n",
    "    vmin = min(np.min(Y), 0)\n",
    "    vmax = max(np.max(Y), 1)\n",
    "    plt.imshow(Y, interpolation='none', vmin=vmin, vmax=vmax, cmap=plt.cm.get_cmap('Blues')) # plot array"
   ]
  },
  {
   "cell_type": "markdown",
   "metadata": {},
   "source": [
    "## Array creation"
   ]
  },
  {
   "cell_type": "code",
   "execution_count": null,
   "metadata": {
    "collapsed": false
   },
   "outputs": [],
   "source": [
    "Z = np.zeros(9)\n",
    "showMatrix(Z)"
   ]
  },
  {
   "cell_type": "code",
   "execution_count": null,
   "metadata": {
    "collapsed": false
   },
   "outputs": [],
   "source": [
    "Z = np.zeros((5,9))\n",
    "showMatrix(Z)"
   ]
  },
  {
   "cell_type": "code",
   "execution_count": null,
   "metadata": {
    "collapsed": false,
    "scrolled": true
   },
   "outputs": [],
   "source": [
    "Z = np.ones(9)\n",
    "showMatrix(Z)"
   ]
  },
  {
   "cell_type": "code",
   "execution_count": null,
   "metadata": {
    "collapsed": false
   },
   "outputs": [],
   "source": [
    "Z = np.ones((5,9))\n",
    "showMatrix(Z)"
   ]
  },
  {
   "cell_type": "code",
   "execution_count": null,
   "metadata": {
    "collapsed": false
   },
   "outputs": [],
   "source": [
    "Z = np.array( [0,0,0,0,0,0,0,0,0] )\n",
    "showMatrix(Z)"
   ]
  },
  {
   "cell_type": "code",
   "execution_count": null,
   "metadata": {
    "collapsed": false
   },
   "outputs": [],
   "source": [
    "Z = np.array( [[0,0,0,0,0,0,0,0,0],\n",
    "               [0,0,0,0,0,0,0,0,0],\n",
    "               [0,0,0,0,0,0,0,0,0],\n",
    "               [0,0,0,0,0,0,0,0,0],\n",
    "               [0,0,0,0,0,0,0,0,0]] )\n",
    "showMatrix(Z)"
   ]
  },
  {
   "cell_type": "code",
   "execution_count": null,
   "metadata": {
    "collapsed": false
   },
   "outputs": [],
   "source": [
    "Z = np.arange(9)    # the numpy arange function also allows floating point arguments\n",
    "showMatrix(Z)"
   ]
  },
  {
   "cell_type": "markdown",
   "metadata": {},
   "source": [
    "(*see also:* [linspace](http://wiki.scipy.org/Numpy_Example_List#linspace))"
   ]
  },
  {
   "cell_type": "code",
   "execution_count": null,
   "metadata": {
    "collapsed": false
   },
   "outputs": [],
   "source": [
    "Z = np.arange(5*9).reshape(5,9)\n",
    "showMatrix(Z)"
   ]
  },
  {
   "cell_type": "markdown",
   "metadata": {},
   "source": [
    "**Notes about reshape:** (a) Reshape must not change the number of elements within the array; (b) a vector of length 45 and a matrix of dimensions (1,45) ARE NOT THE SAME THING!"
   ]
  },
  {
   "cell_type": "code",
   "execution_count": null,
   "metadata": {
    "collapsed": false
   },
   "outputs": [],
   "source": [
    "Z = np.random.uniform(0,1,9)  # args: min, max, no. of elements\n",
    "showMatrix(Z)"
   ]
  },
  {
   "cell_type": "code",
   "execution_count": null,
   "metadata": {
    "collapsed": false
   },
   "outputs": [],
   "source": [
    "Z = np.random.uniform(0, 1, (5, 9))\n",
    "showMatrix(Z)"
   ]
  },
  {
   "cell_type": "markdown",
   "metadata": {},
   "source": [
    "(*see:* [Numpy array creation](http://www.labri.fr/perso/nrougier/teaching/numpy/numpy.html#creation) & [Numpy array reshaping](http://www.labri.fr/perso/nrougier/teaching/numpy/numpy.html#reshaping))"
   ]
  },
  {
   "cell_type": "markdown",
   "metadata": {},
   "source": [
    "##Array slicing"
   ]
  },
  {
   "cell_type": "code",
   "execution_count": null,
   "metadata": {
    "collapsed": false
   },
   "outputs": [],
   "source": [
    "# single element\n",
    "Z = np.zeros((5, 9))\n",
    "Z[1,1] = 1\n",
    "showMatrix(Z)"
   ]
  },
  {
   "cell_type": "code",
   "execution_count": null,
   "metadata": {
    "collapsed": false
   },
   "outputs": [],
   "source": [
    "# single row\n",
    "Z = np.zeros((5, 9))\n",
    "Z[1,:] = 1\n",
    "showMatrix(Z)"
   ]
  },
  {
   "cell_type": "code",
   "execution_count": null,
   "metadata": {
    "collapsed": false
   },
   "outputs": [],
   "source": [
    "# single column\n",
    "Z = np.zeros((5, 9))\n",
    "Z[:,1] = 1\n",
    "showMatrix(Z)"
   ]
  },
  {
   "cell_type": "code",
   "execution_count": null,
   "metadata": {
    "collapsed": false
   },
   "outputs": [],
   "source": [
    "# specific area\n",
    "Z = np.zeros((5, 9))\n",
    "Z[2:4,2:6] = 1            # for each dimension format is always: <from:to:step> (and step is optional)\n",
    "showMatrix(Z)"
   ]
  },
  {
   "cell_type": "code",
   "execution_count": null,
   "metadata": {
    "collapsed": false
   },
   "outputs": [],
   "source": [
    "# every second column\n",
    "Z = np.zeros((5, 9))\n",
    "Z[:,::2] = 1            # for each dimension format is always: <from:to:step> (and step is optional)\n",
    "showMatrix(Z)"
   ]
  },
  {
   "cell_type": "markdown",
   "metadata": {},
   "source": [
    "(*see:* [Numpy array slicing](http://www.labri.fr/perso/nrougier/teaching/numpy/numpy.html#slicing))"
   ]
  },
  {
   "cell_type": "markdown",
   "metadata": {},
   "source": [
    "##Broadcasting"
   ]
  },
  {
   "cell_type": "markdown",
   "metadata": {},
   "source": [
    "(*see:* [Numpy broadcasting](http://www.labri.fr/perso/nrougier/teaching/numpy/numpy.html#broadcasting))"
   ]
  },
  {
   "cell_type": "markdown",
   "metadata": {},
   "source": [
    "##Exercises"
   ]
  },
  {
   "cell_type": "markdown",
   "metadata": {},
   "source": [
    "1. select a tile-pattern subset of a 5x9 matrix like this:\n",
    "![Tile pattern](http://i.imgur.com/Cs7N10t.png)\n",
    "2. And like this:\n",
    "![Tile pattern](http://i.imgur.com/BnGdHle.png)\n",
    "3. And also like this:\n",
    "![Tile pattern](http://i.imgur.com/i3Lw1Zb.png)\n",
    "4. Adapt the code for No.3 so that it works with arrays of arbitrary dimensions."
   ]
  },
  {
   "cell_type": "code",
   "execution_count": null,
   "metadata": {
    "collapsed": true
   },
   "outputs": [],
   "source": [
    "#-#-# EXC_01: YOUR CODE HERE #-#-#"
   ]
  },
  {
   "cell_type": "code",
   "execution_count": null,
   "metadata": {
    "collapsed": true
   },
   "outputs": [],
   "source": [
    "#-#-# EXC_02: YOUR CODE HERE #-#-#"
   ]
  },
  {
   "cell_type": "code",
   "execution_count": null,
   "metadata": {
    "collapsed": true
   },
   "outputs": [],
   "source": [
    "#-#-# EXC_03: YOUR CODE HERE #-#-#"
   ]
  },
  {
   "cell_type": "markdown",
   "metadata": {},
   "source": [
    "## Links\n",
    "* [Quick reference (types, array handling)](http://www.labri.fr/perso/nrougier/teaching/numpy/numpy.html#quick-references)\n",
    "* [Tentative numpy tutorial](http://wiki.scipy.org/Tentative_NumPy_Tutorial)"
   ]
  },
  {
   "cell_type": "markdown",
   "metadata": {},
   "source": [
    "##Exc. solutions"
   ]
  },
  {
   "cell_type": "code",
   "execution_count": null,
   "metadata": {
    "collapsed": false
   },
   "outputs": [],
   "source": [
    "Z[1::2,1::2] = 1\n",
    "Z[1:4:2,1:4:2] = 1\n",
    "Z[0:5:4,0:9:8] = 1"
   ]
  },
  {
   "cell_type": "markdown",
   "metadata": {},
   "source": [
    "## stuff\n",
    "**Björn:** Vielleicht auch eine gute Stelle um *seeds* einzuführen?\n",
    "\n",
    "**Björn:** Vielleicht auch noch ein paar Beispiele zu [Advanced Indexing](http://docs.scipy.org/doc/numpy/reference/arrays.indexing.html#advanced-indexing) oder wird das zu kompliziert?"
   ]
  }
 ],
 "metadata": {
  "kernelspec": {
   "display_name": "Python 2",
   "language": "python",
   "name": "python2"
  },
  "language_info": {
   "codemirror_mode": {
    "name": "ipython",
    "version": 2
   },
   "file_extension": ".py",
   "mimetype": "text/x-python",
   "name": "python",
   "nbconvert_exporter": "python",
   "pygments_lexer": "ipython2",
   "version": "2.7.6"
  }
 },
 "nbformat": 4,
 "nbformat_minor": 0
}
