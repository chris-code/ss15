{
 "cells": [
  {
   "cell_type": "markdown",
   "metadata": {},
   "source": [
    "# Datatypes in Python\n",
    "\n",
    "What you should learn: floats, integers, long, complex, bools, strings "
   ]
  },
  {
   "cell_type": "markdown",
   "metadata": {},
   "source": [
    "## Int and Float - Calculate the following expression using Python:\n",
    "\n",
    "$y = 1-(5*(6-12))+5/7$"
   ]
  },
  {
   "cell_type": "code",
   "execution_count": 79,
   "metadata": {
    "collapsed": false
   },
   "outputs": [
    {
     "data": {
      "text/plain": [
       "31"
      ]
     },
     "execution_count": 79,
     "metadata": {},
     "output_type": "execute_result"
    }
   ],
   "source": [
    "1-(5*(6-12))+5/7"
   ]
  },
  {
   "cell_type": "markdown",
   "metadata": {},
   "source": [
    "Check the result manually! If it is incorrect think about what might be the reason and correct the code. \n",
    "If the result is correct what is important point here we have to take care of?"
   ]
  },
  {
   "cell_type": "code",
   "execution_count": 34,
   "metadata": {
    "collapsed": false
   },
   "outputs": [
    {
     "data": {
      "text/plain": [
       "31.714285714285715"
      ]
     },
     "execution_count": 34,
     "metadata": {},
     "output_type": "execute_result"
    }
   ],
   "source": [
    "1-(5*(6-12))+5./7"
   ]
  },
  {
   "cell_type": "markdown",
   "metadata": {},
   "source": [
    "## Modulo - Calculate the following expression using Python:\n",
    "\n",
    "$ 8674^5\\mod 67$"
   ]
  },
  {
   "cell_type": "code",
   "execution_count": 41,
   "metadata": {
    "collapsed": false
   },
   "outputs": [
    {
     "data": {
      "text/plain": [
       "51L"
      ]
     },
     "execution_count": 41,
     "metadata": {},
     "output_type": "execute_result"
    }
   ],
   "source": [
    "8674**5 % 67"
   ]
  },
  {
   "cell_type": "markdown",
   "metadata": {},
   "source": [
    "## Complex - Calculate the following expression using Python:\n",
    "\n",
    "$((5+3j) - (7-2j)) * (4+6j)$"
   ]
  },
  {
   "cell_type": "code",
   "execution_count": 52,
   "metadata": {
    "collapsed": false
   },
   "outputs": [
    {
     "data": {
      "text/plain": [
       "(-14-8j)"
      ]
     },
     "execution_count": 52,
     "metadata": {},
     "output_type": "execute_result"
    }
   ],
   "source": [
    "((5+3j) + (-7-2j))*(4+6j)"
   ]
  },
  {
   "cell_type": "markdown",
   "metadata": {},
   "source": [
    "## Bool - Define two bool variables a and b\n",
    "$a = True,b = False$\n",
    "### and calulate (!a = not a)\n",
    "$ (a \\vee b ) \\wedge (a \\wedge !a)$ \n",
    "### and  \n",
    "$ (a - b ) + (a + !a)$"
   ]
  },
  {
   "cell_type": "code",
   "execution_count": 11,
   "metadata": {
    "collapsed": false
   },
   "outputs": [
    {
     "data": {
      "text/plain": [
       "True"
      ]
     },
     "execution_count": 11,
     "metadata": {},
     "output_type": "execute_result"
    }
   ],
   "source": [
    "a = True\n",
    "b = False\n",
    "(a or b ) and (a or not a)"
   ]
  },
  {
   "cell_type": "code",
   "execution_count": 12,
   "metadata": {
    "collapsed": false
   },
   "outputs": [
    {
     "data": {
      "text/plain": [
       "2"
      ]
     },
     "execution_count": 12,
     "metadata": {},
     "output_type": "execute_result"
    }
   ],
   "source": [
    "(a - b ) + (a + (not a))"
   ]
  },
  {
   "cell_type": "markdown",
   "metadata": {},
   "source": [
    "## String - define the two variables\n",
    "$name = Max, surname = Mustermann$\n",
    "### Concatenate them with a whitespace and print the result "
   ]
  },
  {
   "cell_type": "code",
   "execution_count": 96,
   "metadata": {
    "collapsed": false
   },
   "outputs": [
    {
     "data": {
      "text/plain": [
       "'Max Mustermann'"
      ]
     },
     "execution_count": 96,
     "metadata": {},
     "output_type": "execute_result"
    }
   ],
   "source": [
    "name = 'Max'\n",
    "surname = 'Mustermann'\n",
    "name + ' ' + surname"
   ]
  },
  {
   "cell_type": "markdown",
   "metadata": {},
   "source": [
    "## Bit manipulation - define the variables\n",
    "$x = 13, y = 5$\n",
    "### and shift the bits of x by 2 to the right and the bits y by one to the left\n",
    "### calculate logic 'and', 'or' and 'xor' of x and y"
   ]
  },
  {
   "cell_type": "code",
   "execution_count": 190,
   "metadata": {
    "collapsed": false
   },
   "outputs": [
    {
     "name": "stdout",
     "output_type": "stream",
     "text": [
      "3\n",
      "10\n",
      "2\n",
      "11\n",
      "9\n"
     ]
    }
   ],
   "source": [
    "x = 13\n",
    "y = 5\n",
    "x = x >> 2\n",
    "y = y << 1\n",
    "print x\n",
    "print y\n",
    "print x & y\n",
    "print x | y\n",
    "print x ^ y"
   ]
  },
  {
   "cell_type": "markdown",
   "metadata": {},
   "source": [
    "# Complex datastructures in Python\n",
    "What you should learn: List, dictionaries, maps, tuples, indexing "
   ]
  },
  {
   "cell_type": "markdown",
   "metadata": {},
   "source": [
    "## Lists - Define the two lists \n",
    "$A = [1,2,3,4,5], B = [10,9,8,7,6]$\n",
    "### concaltenate them, store the result in C and print C"
   ]
  },
  {
   "cell_type": "code",
   "execution_count": 2,
   "metadata": {
    "collapsed": false
   },
   "outputs": [
    {
     "name": "stdout",
     "output_type": "stream",
     "text": [
      "[1, 2, 3, 4, 5, 10, 9, 8, 7, 6]\n"
     ]
    }
   ],
   "source": [
    "A = [1,2,3,4,5]\n",
    "B = [10,9,8,7,6]\n",
    "C = A+B\n",
    "print C"
   ]
  },
  {
   "cell_type": "markdown",
   "metadata": {},
   "source": [
    "### Extract the sublist [3,4,5,10] to List D \n",
    "### Add the element at position 8 (start counting from 0) of list C at the end of D\n",
    "### Print D and its length"
   ]
  },
  {
   "cell_type": "code",
   "execution_count": 148,
   "metadata": {
    "collapsed": false
   },
   "outputs": [
    {
     "name": "stdout",
     "output_type": "stream",
     "text": [
      "[3, 4, 5, 10, 7]\n",
      "5\n"
     ]
    }
   ],
   "source": [
    "D = C[2:6]\n",
    "D.append(C[8])\n",
    "print D\n",
    "print len(D)"
   ]
  },
  {
   "cell_type": "markdown",
   "metadata": {},
   "source": [
    "### Add element 5 at the end of the list\n",
    "### Remove element 5\n",
    "### Insert 15 at position 1 (start counting from 0)\n",
    "### Sort the list"
   ]
  },
  {
   "cell_type": "code",
   "execution_count": 149,
   "metadata": {
    "collapsed": false
   },
   "outputs": [
    {
     "name": "stdout",
     "output_type": "stream",
     "text": [
      "[3, 4, 5, 7, 10, 15]\n"
     ]
    }
   ],
   "source": [
    "D.append(5)\n",
    "D.remove(5)\n",
    "D.insert(1,15)\n",
    "D.sort()\n",
    "print D"
   ]
  },
  {
   "cell_type": "markdown",
   "metadata": {},
   "source": [
    "### Remove the element at position 2 and reverse the list"
   ]
  },
  {
   "cell_type": "code",
   "execution_count": 151,
   "metadata": {
    "collapsed": false
   },
   "outputs": [
    {
     "name": "stdout",
     "output_type": "stream",
     "text": [
      "[15, 10, 7, 4, 3]\n"
     ]
    }
   ],
   "source": [
    "D.pop(2)\n",
    "D.reverse()\n",
    "print D"
   ]
  },
  {
   "cell_type": "markdown",
   "metadata": {},
   "source": [
    "## Sets \n",
    "\n",
    "### Create the two sets A = 'Apple','Peach','Banana','Blueberry' and B = 'Strawberry','Peach','Banana','Pineapple' and check wheather A and B contain the lement 'Pineapple'"
   ]
  },
  {
   "cell_type": "code",
   "execution_count": 174,
   "metadata": {
    "collapsed": false
   },
   "outputs": [
    {
     "name": "stdout",
     "output_type": "stream",
     "text": [
      "False\n",
      "True\n"
     ]
    }
   ],
   "source": [
    "A = set(['Apple','Peach','Banana','Blueberry'])\n",
    "B = set(['Strawberry','Peach','Banana','Pineapple'])\n",
    "print 'Pineapple' in A\n",
    "print 'Pineapple' in B"
   ]
  },
  {
   "cell_type": "markdown",
   "metadata": {},
   "source": [
    "### Now calculate\n",
    "$A \\, \\bigcup \\, B$ (Union), \n",
    "$A \\, \\bigcap \\, B$ (Intersection), \n",
    "$A \\, \\setminus \\, B$ (Difference), \n",
    "$A \\, \\triangle \\, B = (A \\, \\setminus \\, B) \\, \\bigcup \\, (B \\, \\setminus \\, A)$ (Symmetric difference)"
   ]
  },
  {
   "cell_type": "code",
   "execution_count": 172,
   "metadata": {
    "collapsed": false
   },
   "outputs": [
    {
     "name": "stdout",
     "output_type": "stream",
     "text": [
      "set(['Apple', 'Peach', 'Blueberry', 'Strawberry', 'Pineapple', 'Banana'])\n",
      "set(['Banana', 'Peach'])\n",
      "set(['Blueberry', 'Apple'])\n",
      "set(['Apple', 'Strawberry', 'Pineapple', 'Blueberry'])\n",
      "set(['Strawberry', 'Pineapple', 'Blueberry', 'Apple'])\n"
     ]
    }
   ],
   "source": [
    "print A | B  \n",
    "print A & B  \n",
    "print A - B   \n",
    "print A ^ B   \n",
    "print (A - B) | (B - A) "
   ]
  },
  {
   "cell_type": "markdown",
   "metadata": {},
   "source": [
    "## Dictioneries - Create a dictionary"
   ]
  },
  {
   "cell_type": "markdown",
   "metadata": {},
   "source": [
    "## Create a dictionary with the key-value pairs \n",
    "$pen-567, paper-673, keyboard-52$, \n",
    "### Add the key-value pair monitor-4, \n",
    "### Delete the key pen, prin the dictionary keys\n",
    "### Check wheather paper is an element of dict and print its value."
   ]
  },
  {
   "cell_type": "code",
   "execution_count": 182,
   "metadata": {
    "collapsed": false
   },
   "outputs": [
    {
     "name": "stdout",
     "output_type": "stream",
     "text": [
      "{'pen': 567, 'paper': 673, 'keyboard': 52}\n",
      "{'pen': 567, 'paper': 673, 'monitor': 4, 'keyboard': 52}\n",
      "{'paper': 673, 'monitor': 4, 'keyboard': 52}\n",
      "['paper', 'monitor', 'keyboard']\n",
      "True\n",
      "673\n"
     ]
    }
   ],
   "source": [
    "dict = {'pen': 567, 'paper': 673, 'keyboard': 52}\n",
    "print dict\n",
    "dict['monitor'] = 4\n",
    "print dict\n",
    "del dict['pen']\n",
    "print dict\n",
    "print dict.keys()\n",
    "print 'paper' in dict\n",
    "print dict['paper']"
   ]
  },
  {
   "cell_type": "markdown",
   "metadata": {},
   "source": [
    "# Control flows and functions"
   ]
  },
  {
   "cell_type": "markdown",
   "metadata": {},
   "source": [
    "## Create a list A with even and a list B with odd numbers between 0 and 20 (exklusive)"
   ]
  },
  {
   "cell_type": "code",
   "execution_count": 195,
   "metadata": {
    "collapsed": false
   },
   "outputs": [
    {
     "name": "stdout",
     "output_type": "stream",
     "text": [
      "[0, 2, 4, 6, 8, 10, 12, 14, 16, 18]\n",
      "[1, 3, 5, 7, 9, 11, 13, 15, 17, 19]\n"
     ]
    }
   ],
   "source": [
    "A = range(0,20,2)\n",
    "B = range(1,20,2)\n",
    "print A\n",
    "print B"
   ]
  },
  {
   "cell_type": "markdown",
   "metadata": {},
   "source": [
    "## Print all numbers of list B that divide a number in A "
   ]
  },
  {
   "cell_type": "code",
   "execution_count": 199,
   "metadata": {
    "collapsed": false
   },
   "outputs": [
    {
     "name": "stdout",
     "output_type": "stream",
     "text": [
      "1\n",
      "3\n",
      "5\n",
      "7\n",
      "9\n",
      "11\n",
      "13\n",
      "15\n",
      "17\n",
      "19\n"
     ]
    }
   ],
   "source": [
    "for b in B:\n",
    "    for a in A:\n",
    "        if a % b == 0:\n",
    "            print b\n",
    "            break # early abort"
   ]
  },
  {
   "cell_type": "markdown",
   "metadata": {},
   "source": [
    "## Implement the same using a while loop"
   ]
  },
  {
   "cell_type": "code",
   "execution_count": 208,
   "metadata": {
    "collapsed": false
   },
   "outputs": [
    {
     "name": "stdout",
     "output_type": "stream",
     "text": [
      "1\n",
      "3\n",
      "5\n",
      "7\n",
      "9\n",
      "11\n",
      "13\n",
      "15\n",
      "17\n",
      "19\n"
     ]
    }
   ],
   "source": [
    "b = 0\n",
    "while b < len(B):\n",
    "    a = 0\n",
    "    while a < len(A):\n",
    "        if A[a] % B[b] == 0:\n",
    "            print B[b]\n",
    "            break # early abort\n",
    "        a+=1\n",
    "    b+=1"
   ]
  },
  {
   "cell_type": "markdown",
   "metadata": {
    "collapsed": true
   },
   "source": [
    "## Now loop through B, print the number until unit you find the number 17 using a for loop break and continue"
   ]
  },
  {
   "cell_type": "code",
   "execution_count": 212,
   "metadata": {
    "collapsed": false
   },
   "outputs": [
    {
     "name": "stdout",
     "output_type": "stream",
     "text": [
      "1\n",
      "3\n",
      "5\n",
      "7\n",
      "9\n",
      "11\n",
      "13\n",
      "15\n",
      "FOUND  17\n"
     ]
    }
   ],
   "source": [
    "for b in B:\n",
    "    if b != 17:\n",
    "        print b\n",
    "        continue\n",
    "    print \"FOUND \",b\n",
    "    break"
   ]
  },
  {
   "cell_type": "markdown",
   "metadata": {},
   "source": [
    "### Function - Define the following polynome as a Python function with default value for x = 3:\n",
    "$f(x) =  5*x^2 - 4*\\mid x^3\\mid + \\frac{1}{10}x^5$\n",
    "### a function that calculates f(x) and prints it:\n",
    "$y = f(5)$"
   ]
  },
  {
   "cell_type": "code",
   "execution_count": 220,
   "metadata": {
    "collapsed": false
   },
   "outputs": [
    {
     "name": "stdout",
     "output_type": "stream",
     "text": [
      "-62.5\n"
     ]
    }
   ],
   "source": [
    "def f(x=3):\n",
    "    return 5*x**2 - 4*abs(x**3)  + 0.1*x**5\n",
    "\n",
    "def print_f(x=3):\n",
    "    print f(x)\n",
    "    pass\n",
    "print_f(5)"
   ]
  },
  {
   "cell_type": "markdown",
   "metadata": {},
   "source": [
    "## Reimplement the function such that it returns a lambda expression "
   ]
  },
  {
   "cell_type": "code",
   "execution_count": 221,
   "metadata": {
    "collapsed": false
   },
   "outputs": [
    {
     "name": "stdout",
     "output_type": "stream",
     "text": [
      "-62.5\n"
     ]
    }
   ],
   "source": [
    "def f():\n",
    "    return lambda x: 5*x**2 - 4*abs(x**3)  + 0.1*x**5\n",
    "\n",
    "def print_f(x = 3):\n",
    "    f_obj = f()\n",
    "    print f_obj(x)\n",
    "    pass\n",
    "print_f(5)"
   ]
  },
  {
   "cell_type": "markdown",
   "metadata": {},
   "source": [
    "#### Note that python allows to use various functions like cos, sin, exp ... however this will be covered when we dive into numpy later on "
   ]
  },
  {
   "cell_type": "markdown",
   "metadata": {},
   "source": [
    "### Plotting - Plot the polynome in the range -10 to 20 using list comprehensions"
   ]
  },
  {
   "cell_type": "code",
   "execution_count": 216,
   "metadata": {
    "collapsed": false
   },
   "outputs": [
    {
     "data": {
      "text/plain": [
       "[<matplotlib.lines.Line2D at 0x7f5eb8da5a90>]"
      ]
     },
     "execution_count": 216,
     "metadata": {},
     "output_type": "execute_result"
    },
    {
     "data": {
      "image/png": "[encoded data removed]",
      "text/plain": [
       "<matplotlib.figure.Figure at 0x7f5eb8e3c350>"
      ]
     },
     "metadata": {},
     "output_type": "display_data"
    }
   ],
   "source": [
    "import matplotlib.pyplot as plt\n",
    "%matplotlib inline\n",
    "\n",
    "plt.plot(range(-10,20) ,[ f(x) for x in range(-10,20) ] )"
   ]
  },
  {
   "cell_type": "markdown",
   "metadata": {},
   "source": [
    "#Iterators - Use the zip function to loop over two variables list simultaniously\n",
    "$A = 1,2,3,4,5, \n",
    "B = A,B,C,D,E$"
   ]
  },
  {
   "cell_type": "code",
   "execution_count": 227,
   "metadata": {
    "collapsed": false
   },
   "outputs": [
    {
     "name": "stdout",
     "output_type": "stream",
     "text": [
      "1   E\n",
      "2   B\n",
      "3   C\n",
      "4   A\n",
      "5   D\n"
     ]
    }
   ],
   "source": [
    "A = [1,2,3,4,5]\n",
    "B = ['E','B','C','A','D']\n",
    "for a,b in zip(A,B):\n",
    "    print a, \" \",b"
   ]
  },
  {
   "cell_type": "markdown",
   "metadata": {},
   "source": [
    "## Use sorted, reversed and enumerate to loop over B in reverse sorted order while printing the current index"
   ]
  },
  {
   "cell_type": "code",
   "execution_count": 234,
   "metadata": {
    "collapsed": false
   },
   "outputs": [
    {
     "name": "stdout",
     "output_type": "stream",
     "text": [
      "0   E\n",
      "1   D\n",
      "2   C\n",
      "3   B\n",
      "4   A\n"
     ]
    }
   ],
   "source": [
    "for a,b in enumerate(reversed(sorted(B))):\n",
    "    print a, \" \",b"
   ]
  },
  {
   "cell_type": "markdown",
   "metadata": {},
   "source": [
    "##use map to get all values of the polynome f in the range 1..10"
   ]
  },
  {
   "cell_type": "code",
   "execution_count": 242,
   "metadata": {
    "collapsed": false
   },
   "outputs": [
    {
     "name": "stdout",
     "output_type": "stream",
     "text": [
      "[1.1, -8.8, -38.7, -73.6, -62.5, 93.60000000000002, 553.7, 1548.8000000000002, 3393.9000000000005]\n"
     ]
    }
   ],
   "source": [
    "print map(f(),range(1,10))"
   ]
  },
  {
   "cell_type": "markdown",
   "metadata": {},
   "source": [
    "# Loading / Saving Images"
   ]
  },
  {
   "cell_type": "code",
   "execution_count": null,
   "metadata": {
    "collapsed": true
   },
   "outputs": [],
   "source": [
    "return scipy.misc.imread(path)\n",
    "scipy.misc.imsave(path+'.'+ext, image)"
   ]
  },
  {
   "cell_type": "markdown",
   "metadata": {
    "collapsed": true
   },
   "source": [
    "#Modules in Python"
   ]
  },
  {
   "cell_type": "markdown",
   "metadata": {},
   "source": [
    "###Do a wild import of scipy\n",
    "###Import the method scipy.misc.imread() and name it image_read the module scipy and load an image from hard disk\n",
    "### Create you own module containing the function image_read and import the function from this module."
   ]
  },
  {
   "cell_type": "code",
   "execution_count": null,
   "metadata": {
    "collapsed": true
   },
   "outputs": [],
   "source": [
    "from scipy import *\n",
    "import scipy.misc.imread as image_read \n",
    "img = image_read ('test.png)"
   ]
  },
  {
   "cell_type": "markdown",
   "metadata": {},
   "source": [
    "# OOP"
   ]
  },
  {
   "cell_type": "markdown",
   "metadata": {},
   "source": [
    "####Create a 'abstract' class Object3D that implemets the class method get_volume(). Notice that python does not allow abstract classes so so can mimic that by throwing a not implemented error for the method get_volume(). Implement a class method get_base_class() that returns the name of the class as string.\n",
    "\n",
    "####Now create a class Box, which inherits from Object3D. The constructor takes the 3 different edge length and stores them in object variables and get_volume will return its volume.\n",
    "\n",
    "####Now create a class Cube which inherits from Box. The constructore take the length of the edges and wil call the super constructor with this value.\n",
    "\n",
    "####Create a Object3D, a Box with size 3,6,7 and a Cube with size 6, call get_volume() and the get_base_class() methods."
   ]
  },
  {
   "cell_type": "code",
   "execution_count": 9,
   "metadata": {
    "collapsed": false
   },
   "outputs": [
    {
     "name": "stdout",
     "output_type": "stream",
     "text": [
      "Object3D\n",
      "Object3D\n",
      "Object3D\n",
      "126\n",
      "216\n",
      "not implemented\n"
     ]
    }
   ],
   "source": [
    "class Object3D(object):\n",
    "    \n",
    "    @classmethod\n",
    "    def get_base_class(cls):\n",
    "        return 'Object3D'\n",
    "    \n",
    "    def get_volume(self):\n",
    "        raise NotImplementedError(\"Cannot use abstract class!\")\n",
    "\n",
    "class Box(Object3D):\n",
    "\n",
    "    def __init__(self,width, height, depth):\n",
    "        self.width = width\n",
    "        self.height = height\n",
    "        self.depth = depth\n",
    "            \n",
    "    def get_volume(self):\n",
    "        return self.width*self.height*self.depth\n",
    "    \n",
    "class Cube(Box):\n",
    "\n",
    "    def __init__(self,length):\n",
    "        super(Cube, self).__init__(length,length,length)\n",
    "    \n",
    "myObject3D = Object3D()\n",
    "myBox = Box(3,6,7)\n",
    "myCube = Cube(6)\n",
    "\n",
    "print myBox.get_base_class()\n",
    "print myCube.get_base_class()\n",
    "print myObject3D.get_base_class()\n",
    "\n",
    "print myBox.get_volume()\n",
    "print myCube.get_volume()\n",
    "\n",
    "try:\n",
    "    result = myObject3D.get_volume()\n",
    "except:\n",
    "    result = \"not implemented\"\n",
    "print result\n",
    "    "
   ]
  }
 ],
 "metadata": {
  "kernelspec": {
   "display_name": "Python 2",
   "language": "python",
   "name": "python2"
  },
  "language_info": {
   "codemirror_mode": {
    "name": "ipython",
    "version": 2
   },
   "file_extension": ".py",
   "mimetype": "text/x-python",
   "name": "python",
   "nbconvert_exporter": "python",
   "pygments_lexer": "ipython2",
   "version": "2.7.6"
  }
 },
 "nbformat": 4,
 "nbformat_minor": 0
}
