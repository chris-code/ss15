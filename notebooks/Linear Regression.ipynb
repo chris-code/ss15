{
 "cells": [
  {
   "cell_type": "markdown",
   "metadata": {},
   "source": [
    "# Linear Regression"
   ]
  },
  {
   "cell_type": "markdown",
   "metadata": {},
   "source": [
    "This tutorial shows how simple it is to implement a linear regression in python.\n",
    "\n",
    "1) We need some data so create an array x with shape (100,1) that contains the numbers from -5 to 5.\n",
    "\n",
    "2) Initialize the random number generator of numpy to 42.\n",
    "\n",
    "3) Now add Gaussian random noise to x with a standard deviation of 1 and store the result in an array y.\n",
    "\n",
    "4) Plot the datapoints as blue dots in the range $x\\in[-10,10]$ and $y\\in[-10,10]$"
   ]
  },
  {
   "cell_type": "code",
   "execution_count": 49,
   "metadata": {
    "collapsed": false,
    "scrolled": true
   },
   "outputs": [
    {
     "data": {
      "image/png": "[encoded data removed]",
      "text/plain": [
       "<matplotlib.figure.Figure at 0xbe34ba8>"
      ]
     },
     "metadata": {},
     "output_type": "display_data"
    }
   ],
   "source": [
    "import numpy as np\n",
    "import matplotlib.pyplot as plt\n",
    "%matplotlib inline\n",
    "\n",
    "np.random.seed(42)\n",
    "\n",
    "X = np.linspace(-5, 5, 100).reshape(-1, 1)\n",
    "Y = X + np.random.normal(0, 1, X.shape)\n",
    "\n",
    "def plot_data(X, Y, limits):\n",
    "    plt.scatter(X, Y, c='#115EA6')\n",
    "    plt.xlim(limits[0], limits[1])\n",
    "    plt.ylim(limits[2], limits[3])\n",
    "    plt.show()\n",
    "\n",
    "plot_data(X, Y, [-10, 10, -10, 10])"
   ]
  },
  {
   "cell_type": "markdown",
   "metadata": {},
   "source": [
    "A linear regression for datapoint matrix $X$ ($D \\times N$, D datapoints and N input dimensions) and target matrix $Y$ ($D \\times M$, D datapoints and M output dimensions) is defined as:\n",
    "\n",
    "$min \\frac{1}{2}\\left(A\\vec{x}-\\vec{y}\\right)^2$\n",
    "\n",
    "We ignore the bias value for now!\n",
    "\n",
    "1) Set the derivative to zero and solve the equation for $A$ to get the optima $A^*$. (Hint: If you have problems with the closed form solution with abitray dimensions, first solve the equation for 1D input and output)\n",
    "\n",
    "2) Now plot the resulting"
   ]
  },
  {
   "cell_type": "code",
   "execution_count": 54,
   "metadata": {
    "collapsed": false
   },
   "outputs": [
    {
     "data": {
      "image/png": "[encoded data removed]",
      "text/plain": [
       "<matplotlib.figure.Figure at 0xc61d550>"
      ]
     },
     "metadata": {},
     "output_type": "display_data"
    },
    {
     "name": "stdout",
     "output_type": "stream",
     "text": [
      "[[ 1.01379327]]\n"
     ]
    }
   ],
   "source": [
    "def regress(X, Y):\n",
    "    x_dim = X.shape[1]\n",
    "    y_dim = Y.shape[1]\n",
    "    A_1 = np.zeros( (y_dim, x_dim) )\n",
    "    A_2 = np.zeros( (x_dim, x_dim) )\n",
    "\n",
    "    for k in range(0, X.shape[0]):\n",
    "        A_1 += np.outer(Y[k,:], X[k,:])\n",
    "        A_2 += np.outer(X[k,:], X[k,:])\n",
    "    A_2 = np.linalg.inv(A_2)\n",
    "\n",
    "    return np.dot(A_1, A_2)\n",
    "\n",
    "A = regress(X, Y)\n",
    "Y_predicted = (np.dot(A, X.T)).T\n",
    "#plot_data(X, Y_predicted, [-10, 10, -10, 10])\n",
    "#plot_data(X, Y, [-10, 10, -10, 10])\n",
    "plt.scatter(X, Y, c='#115EA6')\n",
    "plt.xlim(-10, 10)\n",
    "plt.ylim(-10, 10)\n",
    "plt.plot(X, Y_predicted)\n",
    "plt.show()\n",
    "print(A)"
   ]
  },
  {
   "cell_type": "markdown",
   "metadata": {},
   "source": [
    "A commen way to integrate a bias value for many machine learning methods is to add a dimension which is constant one for all datapoints!\n",
    "\n",
    "1) Modify the code by adding a second constant dimension to x and add 10 to y to shift the datapoints verctically.\n",
    "\n",
    "2) Now plot the result in the range $x\\in[-10,10]$ and $y\\in[0,20]$, notice that you have to select the first dimension of x in order not to plot the constant dimension!"
   ]
  },
  {
   "cell_type": "code",
   "execution_count": 26,
   "metadata": {
    "collapsed": false
   },
   "outputs": [
    {
     "data": {
      "image/png": "[encoded data removed]",
      "text/plain": [
       "<matplotlib.figure.Figure at 0xc501160>"
      ]
     },
     "metadata": {},
     "output_type": "display_data"
    },
    {
     "name": "stdout",
     "output_type": "stream",
     "text": [
      "[[  1.01163779  10.26440763]]\n"
     ]
    }
   ],
   "source": [
    "X = np.linspace(-5, 5, 100).reshape(-1, 1)\n",
    "Y = X + np.random.normal(0, 1, X.shape)\n",
    "X = np.hstack( [X, np.ones((X.shape))] )\n",
    "Y += 10\n",
    "\n",
    "A = regress(X, Y)\n",
    "Y_predicted = (np.dot(A, X.T)).T\n",
    "plot_data(X[:,0], Y_predicted, [-10, 10, 0, 20])\n",
    "print(A)"
   ]
  },
  {
   "cell_type": "markdown",
   "metadata": {},
   "source": [
    "By using a polynomial expansion of x we can fit a polynome to the data.\n",
    "\n",
    "Fit a ploynome of degree 5 to the data "
   ]
  },
  {
   "cell_type": "code",
   "execution_count": 33,
   "metadata": {
    "collapsed": false
   },
   "outputs": [],
   "source": [
    "import numpy.polynomial as np_pol\n",
    "\n",
    "X = np.linspace(-5, 5, 100).reshape(-1, 1)\n",
    "Y = X + np.random.normal(0, 1, X.shape)\n",
    "X = np.hstack( [X, np.ones((X.shape))] )\n",
    "Y += 10\n",
    "\n",
    "def expanded(X, degree):\n",
    "    new_dim = np_pol.polynomial.polypow(X[0], degree).size\n",
    "    X_expanded = np.empty((X.shape[0], new_dim))\n",
    "    \n",
    "    for k in range(X.shape[0]):\n",
    "        X_expanded[k] = np.polynomial.polynomial.polypow(X[k], degree)\n",
    "    \n",
    "    return X_expanded\n",
    "\n",
    "X_ex = expanded(X, 5)"
   ]
  },
  {
   "cell_type": "code",
   "execution_count": 42,
   "metadata": {
    "collapsed": false
   },
   "outputs": [
    {
     "data": {
      "image/png": "[encoded data removed]",
      "text/plain": [
       "<matplotlib.figure.Figure at 0xadb93c8>"
      ]
     },
     "metadata": {},
     "output_type": "display_data"
    }
   ],
   "source": [
    "A = regress(X_ex, Y)\n",
    "Y_predicted = (np.dot(A, X_ex.T)).T\n",
    "plot_data(X[:,0], Y_predicted, [-10, 10, 0, 20])"
   ]
  },
  {
   "cell_type": "markdown",
   "metadata": {},
   "source": [
    "Now perform the same using the linear regression function np.polyfit(x,y,5) of numpy. Notice that x,y are 1D arrays here! "
   ]
  },
  {
   "cell_type": "code",
   "execution_count": 47,
   "metadata": {
    "collapsed": false
   },
   "outputs": [
    {
     "data": {
      "image/png": "[encoded data removed]",
      "text/plain": [
       "<matplotlib.figure.Figure at 0xcbafcc0>"
      ]
     },
     "metadata": {},
     "output_type": "display_data"
    }
   ],
   "source": [
    "A = np_pol.polynomial.polyfit(X[:,0], Y, 5)\n",
    "Y_predicted = np_pol.polynomial.polyval(X[:,0], A)\n",
    "plot_data(X[:,0], Y_predicted, [-10, 10, 0, 20])"
   ]
  }
 ],
 "metadata": {
  "kernelspec": {
   "display_name": "Python 2",
   "language": "python",
   "name": "python2"
  },
  "language_info": {
   "codemirror_mode": {
    "name": "ipython",
    "version": 2
   },
   "file_extension": ".py",
   "mimetype": "text/x-python",
   "name": "python",
   "nbconvert_exporter": "python",
   "pygments_lexer": "ipython2",
   "version": "2.7.10"
  }
 },
 "nbformat": 4,
 "nbformat_minor": 0
}
