{
 "cells": [
  {
   "cell_type": "markdown",
   "metadata": {},
   "source": [
    "# Basic information\n",
    "\n",
    "The course runs from 21.9. until 2.10., presumably from 10:00 to 18:00 every day.\n",
    "\n",
    "The first week is intended to focus on Python and important concepts and techniques, the second week is reserved for your own projects.\n",
    "\n",
    "By the way, we are: [Björn](http://www.ini.rub.de/users/bjorn-weghenkel), [Fabian](http://www.ini.rub.de/users/fabian-schonfeld), [Jan](http://www.ini.rub.de/users/jan-melchior), [Stefan](http://www.ini.rub.de/users/stefan-richthofer), and [Varun](http://www.ini.rub.de/users/varun-kompella).\n",
    "\n",
    "# Concept\n",
    "\n",
    "The concept of the course is likely a bit different from other courses or lectures. So it might be worth elaborating a bit:\n",
    "\n",
    "* **Assisted self-learning -** First of all, we want to minimize the classic teacher-centered approach. Programming is a very practical thing and hearing us talk for hours what you *could* do with Python is likely boring. Also, all of you are smart computer science students who learned about other programming languages before. Learning Python (at least the basics) should be easy now, you don't need us for that. What we can offer though is years of experience. So while you learn Python the way that suits you most, we can assist with background knowledge and best-practices.\n",
    "\n",
    "* **Responsibility for the outcome -** We assume that you have (or can develop) a pretty good sense of what kind of learning/teaching works best for you and what doesn't. And also about what motivates you to learn a new language and what doesn't. Our goal is to create a course that is interesting and suits your preferences. This however places a lot of responsibility for the outcome on your side. If some aspect of the course doesn't make sense to you or if you need something else to learn, tell us! The same when you feel bored or overchallenged. Or if you are not comfortable with the course for some reason. To adjust the course, we need to know about these things.\n",
    "\n",
    "* **Reducing evaluation during the course -** Teaching at a university always inlcudes the inherent conflict of creating an environment for optimal learning on the one hand and the necessity of giving grades on the other. A good environment for learning often is a playful one where a lot of things could be tried without fearing errors and where it is okay to ask a lot of stupid questions. This atmosphere get's easily disturbed by the fact that many of you need a grade in the end and we are the ones who need to come up with one. We try to reduce this conflict keeping evaluations out of the course itself. Only what you hand in at the end will count.\n",
    "\n",
    "# Criteria to evaluate the projects\n",
    "\n",
    "## Must\n",
    "\n",
    "## Should have"
   ]
  }
 ],
 "metadata": {
  "kernelspec": {
   "display_name": "Python 2",
   "language": "python",
   "name": "python2"
  },
  "language_info": {
   "codemirror_mode": {
    "name": "ipython",
    "version": 2
   },
   "file_extension": ".py",
   "mimetype": "text/x-python",
   "name": "python",
   "nbconvert_exporter": "python",
   "pygments_lexer": "ipython2",
   "version": "2.7.6"
  }
 },
 "nbformat": 4,
 "nbformat_minor": 0
}
