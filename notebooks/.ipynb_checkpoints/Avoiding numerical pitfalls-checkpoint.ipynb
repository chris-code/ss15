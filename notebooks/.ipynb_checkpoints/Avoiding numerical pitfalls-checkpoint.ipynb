{
 "cells": [
  {
   "cell_type": "markdown",
   "metadata": {},
   "source": [
    "# Avoiding numerical pitfalls"
   ]
  },
  {
   "cell_type": "markdown",
   "metadata": {},
   "source": [
    "## The harmonic series is convergent in floating point arithmetics"
   ]
  },
  {
   "cell_type": "markdown",
   "metadata": {},
   "source": [
    "\\begin{align*}\n",
    "\\sum_{n=1}^{\\infty} \\; \\frac{1}{n} \\quad = \\quad 34.1220356680478715816207113675773143768310546875\n",
    "\\end{align*}\n",
    "\n",
    "(usually it is famously known to diverge to $\\infty$)\n",
    "\n",
    "### References\n",
    "\n",
    "Proof of divergence:\n",
    "http://www.free-education-resources.com/www.mathematik.net/harmonische-reihen/hr1s20.htm\n",
    "\n",
    "Proof of convergence for floating point:\n",
    "http://www.maths.tcd.ie/pub/ims/bull71/recipnote.pdf\n",
    "\n",
    "Resolution:\n",
    "http://fredrik-j.blogspot.de/2009/02/how-not-to-compute-harmonic-numbers.html"
   ]
  },
  {
   "cell_type": "markdown",
   "metadata": {},
   "source": [
    "## Basics"
   ]
  },
  {
   "cell_type": "markdown",
   "metadata": {},
   "source": [
    "### References\n",
    "\n",
    "http://www.johndcook.com/blog/2009/04/06/numbers-are-a-leaky-abstraction/\n",
    "\n",
    "http://www.codeproject.com/Articles/29637/Five-Tips-for-Floating-Point-Programming\n",
    "\n",
    "http://www.codeproject.com/Articles/25294/Avoiding-Overflow-Underflow-and-Loss-of-Precision"
   ]
  },
  {
   "cell_type": "markdown",
   "metadata": {},
   "source": [
    "## Don't invert that matrix"
   ]
  },
  {
   "cell_type": "markdown",
   "metadata": {},
   "source": [
    "### References\n",
    "\n",
    "http://www.johndcook.com/blog/2010/01/19/dont-invert-that-matrix/\n",
    "\n",
    "### Summary:\n",
    "\n",
    "* There's hardly ever a good reason to invert a matrix\n",
    "* Solve linear equation systems directly\n",
    "* Apply a QR-decomposition to solve multiple systems with the same matrix (but different right side)\n",
    "* Even if the inverse is given for free, direct solving is still more accurate\n",
    "* Inverses of sparse matrices are in general dense"
   ]
  },
  {
   "cell_type": "markdown",
   "metadata": {},
   "source": [
    "## Polynomes"
   ]
  },
  {
   "cell_type": "markdown",
   "metadata": {},
   "source": [
    "* Horner's method for numerically stable evaluation\n",
    "* NumPy's Polynome-class has this built-in\n",
    "\n",
    "### For expansion:\n",
    "\n",
    "* sometimes we use monomials to expand input data\n",
    "* a subsequent algorithm is supposed to figure out the factors and assemble polynomials\n",
    "* these will be unstable in a naive approach\n",
    "* instead of monomials use a numerically stable base like legendre polynomials\n",
    "* you might need to adjust them for your value-set"
   ]
  }
 ],
 "metadata": {
  "kernelspec": {
   "display_name": "Python 2",
   "language": "python",
   "name": "python2"
  },
  "language_info": {
   "codemirror_mode": {
    "name": "ipython",
    "version": 2
   },
   "file_extension": ".py",
   "mimetype": "text/x-python",
   "name": "python",
   "nbconvert_exporter": "python",
   "pygments_lexer": "ipython2",
   "version": "2.7.10"
  }
 },
 "nbformat": 4,
 "nbformat_minor": 0
}
