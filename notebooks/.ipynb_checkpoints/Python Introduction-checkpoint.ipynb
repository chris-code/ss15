{
 "cells": [
  {
   "cell_type": "markdown",
   "metadata": {},
   "source": [
    "# Datatypes in Python\n",
    "\n",
    "What you should learn: floats, integers, long, complex, bools, strings "
   ]
  },
  {
   "cell_type": "markdown",
   "metadata": {},
   "source": [
    "## Int and Float - Calculate the following expression using Python:\n",
    "\n",
    "$y = 1-(5*(6-12))+5/7$"
   ]
  },
  {
   "cell_type": "code",
   "execution_count": 21,
   "metadata": {
    "collapsed": false
   },
   "outputs": [
    {
     "name": "stdout",
     "output_type": "stream",
     "text": [
      "31\n"
     ]
    }
   ],
   "source": [
    "print( 1 - (5 * (6 - 12)) + 5/7 )"
   ]
  },
  {
   "cell_type": "markdown",
   "metadata": {},
   "source": [
    "Check the result manually! If it is incorrect think about what might be the reason and correct the code. \n",
    "If the result is correct what is important point here we have to take care of?"
   ]
  },
  {
   "cell_type": "code",
   "execution_count": 7,
   "metadata": {
    "collapsed": false
   },
   "outputs": [
    {
     "data": {
      "text/plain": [
       "31.714285714285715"
      ]
     },
     "execution_count": 7,
     "metadata": {},
     "output_type": "execute_result"
    }
   ],
   "source": [
    "print( 1 - (5 * (6 - 12)) + 5.0/7.0 )"
   ]
  },
  {
   "cell_type": "markdown",
   "metadata": {},
   "source": [
    "## Modulo - Calculate the following expression using Python:\n",
    "\n",
    "$ 8674^5\\mod 67$"
   ]
  },
  {
   "cell_type": "code",
   "execution_count": 8,
   "metadata": {
    "collapsed": false
   },
   "outputs": [
    {
     "data": {
      "text/plain": [
       "51L"
      ]
     },
     "execution_count": 8,
     "metadata": {},
     "output_type": "execute_result"
    }
   ],
   "source": [
    "print( (8674**5) % 67 )"
   ]
  },
  {
   "cell_type": "markdown",
   "metadata": {},
   "source": [
    "## Complex - Calculate the following expression using Python:\n",
    "\n",
    "$((5+3j) - (7-2j)) * (4+6j)$"
   ]
  },
  {
   "cell_type": "code",
   "execution_count": 20,
   "metadata": {
    "collapsed": false
   },
   "outputs": [
    {
     "name": "stdout",
     "output_type": "stream",
     "text": [
      "(-38+8j)\n"
     ]
    }
   ],
   "source": [
    "print( ((5+3j) - (7-2j)) * (4+6j) )"
   ]
  },
  {
   "cell_type": "markdown",
   "metadata": {},
   "source": [
    "## Bool - Define two bool variables a and b\n",
    "$a = True,b = False$\n",
    "### and calulate (!a = not a)\n",
    "$ (a \\vee b ) \\wedge (a \\wedge !a)$ \n",
    "### and  \n",
    "$ (a - b ) + (a + !a)$"
   ]
  },
  {
   "cell_type": "code",
   "execution_count": 14,
   "metadata": {
    "collapsed": false
   },
   "outputs": [],
   "source": [
    "a, b = True, False"
   ]
  },
  {
   "cell_type": "code",
   "execution_count": 19,
   "metadata": {
    "collapsed": false
   },
   "outputs": [
    {
     "name": "stdout",
     "output_type": "stream",
     "text": [
      "False\n",
      "2\n"
     ]
    }
   ],
   "source": [
    "print((a or b) and (a and not a))\n",
    "print((a - b) + (a + (not a)))"
   ]
  },
  {
   "cell_type": "markdown",
   "metadata": {},
   "source": [
    "## String - define the two variables\n",
    "$name = Max, surname = Mustermann$\n",
    "### Concatenate them with a whitespace and print the result "
   ]
  },
  {
   "cell_type": "code",
   "execution_count": 24,
   "metadata": {
    "collapsed": false
   },
   "outputs": [
    {
     "name": "stdout",
     "output_type": "stream",
     "text": [
      "MaxMustermann\n"
     ]
    }
   ],
   "source": [
    "name = 'Max'\n",
    "surname = 'Mustermann'\n",
    "print( name + surname)"
   ]
  },
  {
   "cell_type": "markdown",
   "metadata": {},
   "source": [
    "## Bit manipulation - define the variables\n",
    "$x = 13, y = 5$\n",
    "### and shift the bits of x by 2 to the right and the bits y by one to the left\n",
    "### calculate logic 'and', 'or' and 'xor' of x and y"
   ]
  },
  {
   "cell_type": "code",
   "execution_count": 29,
   "metadata": {
    "collapsed": false
   },
   "outputs": [
    {
     "name": "stdout",
     "output_type": "stream",
     "text": [
      "10\n",
      "3\n",
      "9\n"
     ]
    }
   ],
   "source": [
    "x = 13\n",
    "y = 5\n",
    "x = x >> 2\n",
    "y = y << 1\n",
    "print( x and y )\n",
    "print( x or y )\n",
    "print( x ^ y)"
   ]
  },
  {
   "cell_type": "markdown",
   "metadata": {},
   "source": [
    "# Complex datastructures in Python\n",
    "What you should learn: List, dictionaries, maps, tuples, indexing "
   ]
  },
  {
   "cell_type": "markdown",
   "metadata": {},
   "source": [
    "## Lists - Define the two lists \n",
    "$A = [1,2,3,4,5], B = [10,9,8,7,6]$\n",
    "### concaltenate them, store the result in C and print C"
   ]
  },
  {
   "cell_type": "code",
   "execution_count": 27,
   "metadata": {
    "collapsed": false
   },
   "outputs": [
    {
     "name": "stdout",
     "output_type": "stream",
     "text": [
      "[1, 2, 3, 4, 5, 10, 9, 8, 7, 6]\n"
     ]
    }
   ],
   "source": [
    "A = [1,2,3,4,5]\n",
    "B = [10,9,8,7,6]\n",
    "C = A + B\n",
    "print( C )"
   ]
  },
  {
   "cell_type": "markdown",
   "metadata": {},
   "source": [
    "### Extract the sublist [3,4,5,10] to List D \n",
    "### Add the element at position 8 (start counting from 0) of list C at the end of D\n",
    "### Print D and its length"
   ]
  },
  {
   "cell_type": "code",
   "execution_count": 30,
   "metadata": {
    "collapsed": false
   },
   "outputs": [
    {
     "name": "stdout",
     "output_type": "stream",
     "text": [
      "[3, 4, 5, 10, 8]\n"
     ]
    }
   ],
   "source": [
    "D = C[2:6]\n",
    "D.append(C[7])\n",
    "print( D )"
   ]
  },
  {
   "cell_type": "markdown",
   "metadata": {},
   "source": [
    "### Add element 5 at the end of the list\n",
    "### Remove element 5\n",
    "### Insert 15 at position 1 (start counting from 0)\n",
    "### Sort the list"
   ]
  },
  {
   "cell_type": "code",
   "execution_count": 32,
   "metadata": {
    "collapsed": false
   },
   "outputs": [
    {
     "name": "stdout",
     "output_type": "stream",
     "text": [
      "[3, 4, 8, 10, 15]\n"
     ]
    }
   ],
   "source": [
    "D.pop(2)\n",
    "D.insert(0, 15)\n",
    "D.sort()\n",
    "print(D)"
   ]
  },
  {
   "cell_type": "markdown",
   "metadata": {},
   "source": [
    "### Remove the element at position 2 and reverse the list"
   ]
  },
  {
   "cell_type": "code",
   "execution_count": 33,
   "metadata": {
    "collapsed": false
   },
   "outputs": [
    {
     "name": "stdout",
     "output_type": "stream",
     "text": [
      "[15, 10, 8, 3]\n"
     ]
    }
   ],
   "source": [
    "D.pop(1)\n",
    "D.reverse()\n",
    "print( D )"
   ]
  },
  {
   "cell_type": "markdown",
   "metadata": {},
   "source": [
    "## Sets \n",
    "\n",
    "### Create the two sets A = 'Apple','Peach','Banana','Blueberry' and B = 'Strawberry','Peach','Banana','Pineapple' and check wheather A and B contain the lement 'Pineapple'"
   ]
  },
  {
   "cell_type": "code",
   "execution_count": 36,
   "metadata": {
    "collapsed": false
   },
   "outputs": [
    {
     "name": "stdout",
     "output_type": "stream",
     "text": [
      "Pineapple not in both sets!\n"
     ]
    }
   ],
   "source": [
    "A = {'Apple', 'Peach', 'Banana', 'Blueberry'}\n",
    "B = {'Strawberry', 'Peach', 'Banana', 'Pineapple'}\n",
    "if 'Pineapple' in A and 'Pineapple' in B:\n",
    "    print( 'Pineapple in both A and B!' )\n",
    "else:\n",
    "    print( 'Pineapple not in both sets!' )"
   ]
  },
  {
   "cell_type": "markdown",
   "metadata": {},
   "source": [
    "### Now calculate\n",
    "$A \\, \\bigcup \\, B$ (Union), \n",
    "$A \\, \\bigcap \\, B$ (Intersection), \n",
    "$A \\, \\setminus \\, B$ (Difference), \n",
    "$A \\, \\triangle \\, B = (A \\, \\setminus \\, B) \\, \\bigcup \\, (B \\, \\setminus \\, A)$ (Symmetric difference)"
   ]
  },
  {
   "cell_type": "code",
   "execution_count": 38,
   "metadata": {
    "collapsed": false
   },
   "outputs": [
    {
     "name": "stdout",
     "output_type": "stream",
     "text": [
      "set(['Apple', 'Peach', 'Blueberry', 'Strawberry', 'Pineapple', 'Banana'])\n",
      "set(['Banana', 'Peach'])\n",
      "set(['Apple', 'Blueberry'])\n",
      "set(['Apple', 'Strawberry', 'Pineapple', 'Blueberry'])\n"
     ]
    }
   ],
   "source": [
    "print( A | B )\n",
    "print( A & B )\n",
    "print( A - B )\n",
    "print( A ^ B )"
   ]
  },
  {
   "cell_type": "markdown",
   "metadata": {},
   "source": [
    "## Dictioneries - Create a dictionary"
   ]
  },
  {
   "cell_type": "markdown",
   "metadata": {},
   "source": [
    "## Create a dictionary with the key-value pairs \n",
    "$pen-567, paper-673, keyboard-52$, \n",
    "### Add the key-value pair monitor-4, \n",
    "### Delete the key pen, prin the dictionary keys\n",
    "### Check wheather paper is an element of dict and print its value."
   ]
  },
  {
   "cell_type": "code",
   "execution_count": 40,
   "metadata": {
    "collapsed": false
   },
   "outputs": [
    {
     "name": "stdout",
     "output_type": "stream",
     "text": [
      "{'paper': 673, 'keyboard': 52}\n",
      "673\n"
     ]
    }
   ],
   "source": [
    "d = {'pen': 567, 'paper': 673, 'keyboard': 52}\n",
    "del d['pen']\n",
    "print( d )\n",
    "if 'paper' in d:\n",
    "    print( d['paper'] )\n",
    "else:\n",
    "    print( '\\'paper\\' not found' )"
   ]
  },
  {
   "cell_type": "markdown",
   "metadata": {},
   "source": [
    "# Control flows and functions"
   ]
  },
  {
   "cell_type": "markdown",
   "metadata": {},
   "source": [
    "## Create a list A with even and a list B with odd numbers between 0 and 20 (exklusive)"
   ]
  },
  {
   "cell_type": "code",
   "execution_count": 45,
   "metadata": {
    "collapsed": false
   },
   "outputs": [
    {
     "name": "stdout",
     "output_type": "stream",
     "text": [
      "[2, 4, 6, 8, 10, 12, 14, 16, 18]\n",
      "[1, 3, 5, 7, 9, 11, 13, 15, 17, 19]\n"
     ]
    }
   ],
   "source": [
    "A = [2*x for x in range(1,10)]\n",
    "B = [2*x+1 for x in range(10)]\n",
    "print(A)\n",
    "print(B)"
   ]
  },
  {
   "cell_type": "markdown",
   "metadata": {},
   "source": [
    "## Print all numbers of list B that divide a number in A "
   ]
  },
  {
   "cell_type": "code",
   "execution_count": 46,
   "metadata": {
    "collapsed": false
   },
   "outputs": [
    {
     "name": "stdout",
     "output_type": "stream",
     "text": [
      "1\n",
      "3\n",
      "5\n",
      "7\n",
      "9\n"
     ]
    }
   ],
   "source": [
    "for b in B:\n",
    "    for a in A:\n",
    "        if a % b == 0:\n",
    "            print( b )\n",
    "            break"
   ]
  },
  {
   "cell_type": "markdown",
   "metadata": {},
   "source": [
    "## Implement the same using a while loop"
   ]
  },
  {
   "cell_type": "code",
   "execution_count": 48,
   "metadata": {
    "collapsed": false
   },
   "outputs": [
    {
     "name": "stdout",
     "output_type": "stream",
     "text": [
      "1\n",
      "3\n",
      "5\n",
      "7\n",
      "9\n"
     ]
    }
   ],
   "source": [
    "i_b = 0\n",
    "while i_b < len(B):\n",
    "    i_a = 0\n",
    "    while i_a < len(A):\n",
    "        if A[i_a] % B[i_b] == 0:\n",
    "            print( B[i_b] )\n",
    "            break\n",
    "        i_a += 1\n",
    "    i_b += 1"
   ]
  },
  {
   "cell_type": "markdown",
   "metadata": {
    "collapsed": true
   },
   "source": [
    "## Now loop through B, print the number until unit you find the number 17 using a for loop break and continue"
   ]
  },
  {
   "cell_type": "code",
   "execution_count": 54,
   "metadata": {
    "collapsed": false
   },
   "outputs": [
    {
     "name": "stdout",
     "output_type": "stream",
     "text": [
      "1\n",
      "3\n",
      "5\n",
      "7\n",
      "9\n",
      "11\n",
      "13\n",
      "15\n"
     ]
    }
   ],
   "source": [
    "for b in B:\n",
    "    if b == 17: break\n",
    "    print(b)"
   ]
  },
  {
   "cell_type": "markdown",
   "metadata": {},
   "source": [
    "### Function - Define the following polynome as a Python function with default value for x = 3:\n",
    "$f(x) =  5*x^2 - 4*\\mid x^3\\mid + \\frac{1}{10}x^5$\n",
    "### a function that calculates f(x) and prints it:\n",
    "$y = f(5)$"
   ]
  },
  {
   "cell_type": "code",
   "execution_count": 1,
   "metadata": {
    "collapsed": false
   },
   "outputs": [
    {
     "name": "stdout",
     "output_type": "stream",
     "text": [
      "-62.5\n"
     ]
    }
   ],
   "source": [
    "def f(x=3):\n",
    "    return 5 * x**2 - 4 * abs(x**3) + (1.0 / 10.0) * x**5\n",
    " \n",
    "y = f(5)\n",
    "print( y )"
   ]
  },
  {
   "cell_type": "markdown",
   "metadata": {},
   "source": [
    "## Reimplement the function such that it returns a lambda expression "
   ]
  },
  {
   "cell_type": "code",
   "execution_count": 4,
   "metadata": {
    "collapsed": false
   },
   "outputs": [
    {
     "name": "stdout",
     "output_type": "stream",
     "text": [
      "-62.5\n"
     ]
    }
   ],
   "source": [
    "def f():\n",
    "    return lambda x: 5 * x**2 - 4 * abs(x**3) + (1.0 / 10.0) * x**5\n",
    "\n",
    "l = f()\n",
    "print( l(5) )"
   ]
  },
  {
   "cell_type": "markdown",
   "metadata": {},
   "source": [
    "#### Note that python allows to use various functions like cos, sin, exp ... however this will be covered when we dive into numpy later on "
   ]
  },
  {
   "cell_type": "markdown",
   "metadata": {},
   "source": [
    "### Plotting - Plot the polynome in the range -10 to 20 using list comprehensions"
   ]
  },
  {
   "cell_type": "code",
   "execution_count": 10,
   "metadata": {
    "collapsed": false
   },
   "outputs": [],
   "source": [
    "import numpy as np\n",
    "import matplotlib.pyplot as ppt\n",
    "\n",
    "x_values = np.linspace(-10, 20, 300)\n",
    "y_values = [l(x) for x in x_values]\n",
    "\n",
    "ppt.plot(x_values, y_values)\n",
    "ppt.show()"
   ]
  },
  {
   "cell_type": "markdown",
   "metadata": {},
   "source": [
    "#Iterators - Use the zip function to loop over two variables list simultaniously\n",
    "$A = 1,2,3,4,5, \n",
    "B = A,B,C,D,E$"
   ]
  },
  {
   "cell_type": "code",
   "execution_count": 60,
   "metadata": {
    "collapsed": false
   },
   "outputs": [
    {
     "name": "stdout",
     "output_type": "stream",
     "text": [
      "(1, 'A')\n",
      "(2, 'B')\n",
      "(3, 'C')\n",
      "(4, 'D')\n",
      "(5, 'E')\n"
     ]
    }
   ],
   "source": [
    "A = [1,2,3,4,5]\n",
    "B = ['A', 'B', 'C', 'D', 'E']\n",
    "for ab in zip(A,B):\n",
    "    print( ab )"
   ]
  },
  {
   "cell_type": "markdown",
   "metadata": {},
   "source": [
    "## Use sorted, reversed and enumerate to loop over B in reverse sorted order while printing the current index"
   ]
  },
  {
   "cell_type": "code",
   "execution_count": 69,
   "metadata": {
    "collapsed": false
   },
   "outputs": [
    {
     "name": "stdout",
     "output_type": "stream",
     "text": [
      "(0, 'E')\n",
      "(1, 'D')\n",
      "(2, 'C')\n",
      "(3, 'B')\n",
      "(4, 'A')\n"
     ]
    }
   ],
   "source": [
    "for index, value in enumerate(reversed(sorted(B))):\n",
    "    print(index, value)"
   ]
  },
  {
   "cell_type": "markdown",
   "metadata": {},
   "source": [
    "##use map to get all values of the polynome f in the range 1..10"
   ]
  },
  {
   "cell_type": "code",
   "execution_count": 67,
   "metadata": {
    "collapsed": false
   },
   "outputs": [
    {
     "name": "stdout",
     "output_type": "stream",
     "text": [
      "[1.1, -8.8, -38.7, -73.6, -62.5, 93.60000000000002, 553.7, 1548.8000000000002, 3393.9000000000005, 6500.0]\n"
     ]
    }
   ],
   "source": [
    "values = map(l, range(1,11))\n",
    "print( values )"
   ]
  },
  {
   "cell_type": "markdown",
   "metadata": {},
   "source": [
    "# Loading / Saving Images"
   ]
  },
  {
   "cell_type": "code",
   "execution_count": 20,
   "metadata": {
    "collapsed": false
   },
   "outputs": [],
   "source": [
    "from scipy import *\n",
    "from scipy.misc import imread as image_read\n",
    "\n",
    "image = image_read(name='AI_Logo.png')\n",
    "\n",
    "ppt.imshow(image)\n",
    "ppt.show()"
   ]
  },
  {
   "cell_type": "markdown",
   "metadata": {
    "collapsed": true
   },
   "source": [
    "#Modules in Python"
   ]
  },
  {
   "cell_type": "markdown",
   "metadata": {},
   "source": [
    "###Do a wild import of scipy\n",
    "###Import the method scipy.misc.imread() and name it image_read the module scipy and load an image from hard disk\n",
    "\n",
    "## Create you own module containing the function image_read and import the function from this module."
   ]
  },
  {
   "cell_type": "code",
   "execution_count": 25,
   "metadata": {
    "collapsed": false
   },
   "outputs": [],
   "source": [
    "import my_imgread\n",
    "\n",
    "image = my_imgread.image_read(path='AI_Logo.png')\n",
    "ppt.imshow(image)\n",
    "ppt.show()"
   ]
  },
  {
   "cell_type": "markdown",
   "metadata": {},
   "source": [
    "# OOP"
   ]
  },
  {
   "cell_type": "markdown",
   "metadata": {},
   "source": [
    "####Create a 'abstract' class Object3D that implemets the class method get_volume(). Notice that python does not allow abstract classes so so can mimic that by throwing a not implemented error for the method get_volume(). Implement a class method get_base_class() that returns the name of the class as string.\n",
    "\n",
    "####Now create a class Box, which inherits from Object3D. The constructor takes the 3 different edge length and stores them in object variables and get_volume will return its volume.\n",
    "\n",
    "####Now create a class Cube which inherits from Box. The constructore take the length of the edges and wil call the super constructor with this value.\n",
    "\n",
    "####Create a Object3D, a Box with size 3,6,7 and a Cube with size 6, call get_volume() and the get_base_class() methods."
   ]
  },
  {
   "cell_type": "code",
   "execution_count": 114,
   "metadata": {
    "collapsed": false
   },
   "outputs": [],
   "source": [
    "class Object3D(object):\n",
    "    @classmethod\n",
    "    def get_volume(cls):\n",
    "        raise NotImplementedError\n",
    "    @classmethod\n",
    "    def get_base_class(cls):\n",
    "        return cls.__name__\n",
    "\n",
    "class Box(Object3D):\n",
    "    def __init__(self, x, y, z):\n",
    "        self.x, self.y, self.z = x, y, z\n",
    "    def get_volume(self):\n",
    "        return self.x * self.y * self.z\n",
    "\n",
    "class Cube(Box):\n",
    "    def __init__(self, length):\n",
    "        super(Cube, self).__init__(length, length, length)"
   ]
  },
  {
   "cell_type": "code",
   "execution_count": 115,
   "metadata": {
    "collapsed": false
   },
   "outputs": [
    {
     "name": "stdout",
     "output_type": "stream",
     "text": [
      "126\n",
      "216\n"
     ]
    }
   ],
   "source": [
    "o = Object3D()\n",
    "b = Box(3,6,7)\n",
    "c = Cube(6)\n",
    "\n",
    "print(b.get_volume())\n",
    "print(c.get_volume())"
   ]
  },
  {
   "cell_type": "code",
   "execution_count": null,
   "metadata": {
    "collapsed": true
   },
   "outputs": [],
   "source": []
  }
 ],
 "metadata": {
  "kernelspec": {
   "display_name": "Python 2",
   "language": "python",
   "name": "python2"
  },
  "language_info": {
   "codemirror_mode": {
    "name": "ipython",
    "version": 2
   },
   "file_extension": ".py",
   "mimetype": "text/x-python",
   "name": "python",
   "nbconvert_exporter": "python",
   "pygments_lexer": "ipython2",
   "version": "2.7.10"
  }
 },
 "nbformat": 4,
 "nbformat_minor": 0
}
