{
 "cells": [
  {
   "cell_type": "markdown",
   "metadata": {},
   "source": [
    "# Encrypted Tasks"
   ]
  },
  {
   "cell_type": "markdown",
   "metadata": {},
   "source": [
    "We had the idea of encrypting tasks for the Python course such that the next task can only be read when the previous has been solved. It is one way way of making sure a solution has been found. It may be funny and motivating as well."
   ]
  },
  {
   "cell_type": "markdown",
   "metadata": {},
   "source": [
    "## Encrypting and Decrypting Tasks"
   ]
  },
  {
   "cell_type": "markdown",
   "metadata": {},
   "source": [
    "We could encrypt tasks like this:"
   ]
  },
  {
   "cell_type": "code",
   "execution_count": 1,
   "metadata": {
    "collapsed": false
   },
   "outputs": [],
   "source": [
    "import base64\n",
    "from Crypto.Cipher import AES\n",
    "from Crypto.Hash import MD5\n",
    "\n",
    "def pad16(s):\n",
    "    \"\"\"Pad the string with spaces until its length is a multiple of 16.\"\"\"\n",
    "    l = 16 - len(s) % 16\n",
    "    if l < 16:\n",
    "        s = s + ''.join([' '] * l)\n",
    "    return s\n",
    "\n",
    "def encrypt_task(key, task):\n",
    "    \"\"\"Return an encrypted and base64-coded task.\"\"\"\n",
    "    task = pad16(task)\n",
    "    key_hash = MD5.new(key).hexdigest()\n",
    "    aes = AES.new(key_hash)\n",
    "    encrypted_task = aes.encrypt(task)\n",
    "    return base64.encodestring(encrypted_task)"
   ]
  },
  {
   "cell_type": "code",
   "execution_count": 2,
   "metadata": {
    "collapsed": false
   },
   "outputs": [
    {
     "name": "stdout",
     "output_type": "stream",
     "text": [
      "UuBymBBCLaDQ7OcV/btfkILLTE3nuEF2qSEdtWH1C8I=\n",
      "\n"
     ]
    }
   ],
   "source": [
    "print encrypt_task('result from previous task', 'This is the new task.')"
   ]
  },
  {
   "cell_type": "markdown",
   "metadata": {},
   "source": [
    "Now this is the encrypted task:\n",
    "\n",
    "**UuBymBBCLaDQ7OcV/btfkILLTE3nuEF2qSEdtWH1C8I=**"
   ]
  },
  {
   "cell_type": "markdown",
   "metadata": {},
   "source": [
    "Maybe the students could already create the decryption function themselves."
   ]
  },
  {
   "cell_type": "code",
   "execution_count": null,
   "metadata": {
    "collapsed": false
   },
   "outputs": [],
   "source": [
    "def decrypt_task(key, encrypted_task):\n",
    "    key_hash = MD5.new(key).hexdigest()\n",
    "    aes = AES.new(key_hash)\n",
    "    task = base64.decodestring(encrypted_task)\n",
    "    return aes.decrypt(task)"
   ]
  },
  {
   "cell_type": "code",
   "execution_count": null,
   "metadata": {
    "collapsed": false
   },
   "outputs": [],
   "source": [
    "print decrypt_task('result from previous task', 'UuBymBBCLaDQ7OcV/btfkILLTE3nuEF2qSEdtWH1C8I=')"
   ]
  },
  {
   "cell_type": "markdown",
   "metadata": {},
   "source": [
    "## Encoded Images"
   ]
  },
  {
   "cell_type": "markdown",
   "metadata": {},
   "source": [
    "Another way of encoding the next task could be realized through encoded images."
   ]
  },
  {
   "cell_type": "code",
   "execution_count": null,
   "metadata": {
    "collapsed": false
   },
   "outputs": [],
   "source": [
    "import numpy as np\n",
    "import matplotlib.pyplot as plt\n",
    "\n",
    "%matplotlib inline\n",
    "\n",
    "plt.imshow(np.random.randint(0, 2, size=(100,100)))"
   ]
  }
 ],
 "metadata": {
  "kernelspec": {
   "display_name": "Python 2",
   "language": "python",
   "name": "python2"
  },
  "language_info": {
   "codemirror_mode": {
    "name": "ipython",
    "version": 2
   },
   "file_extension": ".py",
   "mimetype": "text/x-python",
   "name": "python",
   "nbconvert_exporter": "python",
   "pygments_lexer": "ipython2",
   "version": "2.7.10"
  }
 },
 "nbformat": 4,
 "nbformat_minor": 0
}
