{
 "cells": [
  {
   "cell_type": "markdown",
   "metadata": {},
   "source": [
    "# List comprehensions\n",
    "\n",
    "In Python there is a special way to initialize lists (and dictionaries) called *list comprehensions*. For many lists that we are going to create, list comprehensions are the recommended way to do so without using loops (remember that loops are **slow** in Python).\n",
    "\n",
    "Another reason to use list comprehensions is that they can be elegant and resemble the way we would define sets in mathematical notation. Consider for instance the examples from [this tutorial](http://www.secnetix.de/olli/Python/list_comprehensions.hawk):\n",
    "\n",
    "> $V = (1, 2, 4, 8, \\dots, 2^{12})$\n",
    "\n",
    "> $S = \\{x^2 : x \\in \\{0 \\dots 9\\}\\}$\n",
    "\n",
    "> $M = \\{x | x \\in S \\textrm{ and } x \\textrm{ even }\\}$\n",
    "\n",
    "We can initialize $V$, $S$ and $M$ easily with list comprehensions:"
   ]
  },
  {
   "cell_type": "code",
   "execution_count": 1,
   "metadata": {
    "collapsed": false
   },
   "outputs": [
    {
     "name": "stdout",
     "output_type": "stream",
     "text": [
      "[1, 2, 4, 8, 16, 32, 64, 128, 256, 512, 1024, 2048, 4096]\n"
     ]
    }
   ],
   "source": [
    "V = [2**i for i in range(13)]\n",
    "print V"
   ]
  },
  {
   "cell_type": "code",
   "execution_count": 2,
   "metadata": {
    "collapsed": false
   },
   "outputs": [
    {
     "name": "stdout",
     "output_type": "stream",
     "text": [
      "set([0, 1, 4, 81, 64, 9, 16, 49, 25, 36])\n"
     ]
    }
   ],
   "source": [
    "S = set([x**2 for x in range(10)])\n",
    "print S"
   ]
  },
  {
   "cell_type": "code",
   "execution_count": 3,
   "metadata": {
    "collapsed": false
   },
   "outputs": [
    {
     "name": "stdout",
     "output_type": "stream",
     "text": [
      "set([0, 64, 4, 16, 36])\n"
     ]
    }
   ],
   "source": [
    "M = set([x for x in S if x % 2 == 0])\n",
    "print M"
   ]
  },
  {
   "cell_type": "markdown",
   "metadata": {},
   "source": [
    "## Exercise\n",
    "\n",
    "[Project Euler](https://projecteuler.net/) is a website with many small mathematical challenges. Solve the [first one](https://projecteuler.net/problem=1) with a list comprehension and `np.sum()`:\n",
    "\n",
    "> If we list all the natural numbers below 10 that are multiples of 3 or 5, we get 3, 5, 6 and 9. The sum of these multiples is 23.\n",
    "\n",
    "> Find the sum of all the multiples of 3 or 5 below 1000.\n",
    "\n",
    "If you like, you can make an account on their website and submit the solution."
   ]
  },
  {
   "cell_type": "code",
   "execution_count": 5,
   "metadata": {
    "collapsed": false
   },
   "outputs": [
    {
     "data": {
      "text/plain": [
       "233168"
      ]
     },
     "execution_count": 5,
     "metadata": {},
     "output_type": "execute_result"
    }
   ],
   "source": [
    "import numpy as np\n",
    "\n",
    "multiples = np.array([x for x in range(1000) if x % 3 == 0 or x % 5 == 0])\n",
    "multiples.sum()"
   ]
  }
 ],
 "metadata": {
  "kernelspec": {
   "display_name": "Python 2",
   "language": "python",
   "name": "python2"
  },
  "language_info": {
   "codemirror_mode": {
    "name": "ipython",
    "version": 2
   },
   "file_extension": ".py",
   "mimetype": "text/x-python",
   "name": "python",
   "nbconvert_exporter": "python",
   "pygments_lexer": "ipython2",
   "version": "2.7.10"
  }
 },
 "nbformat": 4,
 "nbformat_minor": 0
}
